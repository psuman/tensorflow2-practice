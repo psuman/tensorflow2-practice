{
 "cells": [
  {
   "cell_type": "markdown",
   "metadata": {},
   "source": [
    "## Supervised Machine Learning Using TensorFlow 2\n",
    "\n",
    "Supervised learning is the machine learning scenario in which one or more data points from a set of data points is/are associated with a label. The model then learns to predict the labels for unseen data points. For our purposes, each data point will normally be a tensor and will be associated with a label.\n"
   ]
  },
  {
   "cell_type": "markdown",
   "metadata": {},
   "source": [
    "## Linear regression\n",
    "\n",
    "A linear regression problem is one where you have to predict the value of one continuous variable, given the value of one or more other variables (data points); for example, predicting the selling price of a house, given its floor space.\n",
    "\n",
    "However, linear regression problems may involve several features in which the terminology multiple or multivariate linear regression is used. In this case, it is not a line that best fits the data, but a plane (two features) or a hyperplane (more than two features)\n"
   ]
  },
  {
   "cell_type": "markdown",
   "metadata": {},
   "source": [
    "## Our first linear regression example"
   ]
  },
  {
   "cell_type": "code",
   "execution_count": 9,
   "metadata": {},
   "outputs": [],
   "source": [
    " import tensorflow as tf\n",
    " import numpy as np\n",
    " from matplotlib import pyplot as plt\n"
   ]
  },
  {
   "cell_type": "code",
   "execution_count": 10,
   "metadata": {},
   "outputs": [],
   "source": [
    "n_examples = 1000 # number of training examples\n",
    "training_steps = 1000 # number of steps we are going to train for\n",
    "display_step = 100 # after multiples of this, we display the loss\n",
    "learning_rate = 0.01 # multiplying factor on gradients\n",
    "m, c = 6, -5 # gradient and y-intercept of our line, edit these for a different linear problem"
   ]
  },
  {
   "cell_type": "code",
   "execution_count": 11,
   "metadata": {},
   "outputs": [],
   "source": [
    "def train_data(n, m, c):\n",
    "    x = tf.random.normal([n]) # n values taken from a normal distribution,\n",
    "    noise = tf.random.normal([n])# n values taken from a normal distribution\n",
    "    y = m*x + c + noise # our scatter plot\n",
    "    return x, y"
   ]
  },
  {
   "cell_type": "code",
   "execution_count": 12,
   "metadata": {},
   "outputs": [],
   "source": [
    "def prediction(x, weight, bias):\n",
    "    return weight*x + bias # our predicted (learned) m and c, expression is like y = m*x + c"
   ]
  },
  {
   "cell_type": "code",
   "execution_count": 13,
   "metadata": {},
   "outputs": [],
   "source": [
    "def loss(x, y, weights, biases): \n",
    "    error = prediction(x, weights, biases) - y # how 'wrong' our predicted (learned) y is\n",
    "    squared_error = tf.square(error)\n",
    "    return tf.reduce_mean(input_tensor=squared_error) # overall mean of squared error, scalar value."
   ]
  },
  {
   "cell_type": "code",
   "execution_count": 26,
   "metadata": {},
   "outputs": [],
   "source": [
    "def grad(x, y, weights, biases):\n",
    "    with tf.GradientTape() as tape:\n",
    "         loss_ = loss(x, y, weights, biases)\n",
    "    return tape.gradient(loss_, [weights, biases]) # direction and value of the gradient of our weights and biases"
   ]
  },
  {
   "cell_type": "code",
   "execution_count": 27,
   "metadata": {},
   "outputs": [
    {
     "name": "stdout",
     "output_type": "stream",
     "text": [
      "Initial loss: 65.928\n"
     ]
    },
    {
     "data": {
      "image/png": "[encoded data removed]",
      "text/plain": [
       "<Figure size 432x288 with 1 Axes>"
      ]
     },
     "metadata": {
      "needs_background": "light"
     },
     "output_type": "display_data"
    }
   ],
   "source": [
    "x, y = train_data(n_examples,m,c) # our training values x and y\n",
    "plt.scatter(x,y)\n",
    "plt.xlabel(\"x\")\n",
    "plt.ylabel(\"y\")\n",
    "plt.title(\"Figure 1: Training Data\")\n",
    "W = tf.Variable(np.random.randn()) # initial, random, value for predicted weight (m)\n",
    "B = tf.Variable(np.random.randn()) # initial, random, value for predicted bias (c)\n",
    "\n",
    "print(\"Initial loss: {:.3f}\".format(loss(x, y, W, B)))"
   ]
  },
  {
   "cell_type": "code",
   "execution_count": 28,
   "metadata": {},
   "outputs": [
    {
     "name": "stdout",
     "output_type": "stream",
     "text": [
      "Loss at step 00: 63.528343\n",
      "Loss at step 100: 2.435444\n",
      "Loss at step 200: 1.015862\n",
      "Loss at step 300: 0.982756\n",
      "Loss at step 400: 0.981981\n",
      "Loss at step 500: 0.981963\n",
      "Loss at step 600: 0.981963\n",
      "Loss at step 700: 0.981963\n",
      "Loss at step 800: 0.981963\n",
      "Loss at step 900: 0.981963\n"
     ]
    }
   ],
   "source": [
    "for step in range(training_steps): #iterate for each training step\n",
    "     deltaW, deltaB = grad(x, y, W, B) # direction(sign) and value of the gradients of our loss \n",
    "   # with respect to our weights and bias\n",
    "     change_W = deltaW * learning_rate # adjustment amount for weight\n",
    "     change_B = deltaB * learning_rate # adjustment amount for bias\n",
    "     W.assign_sub(change_W) # subract change_W from W\n",
    "     B.assign_sub(change_B) # subract change_B from B\n",
    "     if step==0 or step % display_step == 0:\n",
    "        print(\"Loss at step {:02d}: {:.6f}\".format(step, loss(x, y, W, B)))\n",
    "\n",
    "   # print(deltaW.numpy(), deltaB.numpy()) # uncomment if you want to see the gradients\n"
   ]
  },
  {
   "cell_type": "code",
   "execution_count": 29,
   "metadata": {},
   "outputs": [
    {
     "name": "stdout",
     "output_type": "stream",
     "text": [
      "Final loss: 0.982\n",
      "W = 6.030852317810059, B = -4.991459369659424\n",
      "Compared with m = 6.000, c = -5.000  of the original line\n"
     ]
    },
    {
     "data": {
      "text/plain": [
       "Text(0.5, 1.0, 'Figure 2: Line of Best Fit')"
      ]
     },
     "execution_count": 29,
     "metadata": {},
     "output_type": "execute_result"
    },
    {
     "data": {
      "image/png": "[encoded data removed]",
      "text/plain": [
       "<Figure size 432x288 with 1 Axes>"
      ]
     },
     "metadata": {
      "needs_background": "light"
     },
     "output_type": "display_data"
    }
   ],
   "source": [
    "print(\"Final loss: {:.3f}\".format(loss(x, y, W, B)))\n",
    "print(\"W = {}, B = {}\".format(W.numpy(), B.numpy()))\n",
    "print(\"Compared with m = {:.3f}, c = {:.3f}\".format(m, c),\" of the original line\")\n",
    "xs = np.linspace(-3, 4, 50)\n",
    "ys = W.numpy()*xs + B.numpy()\n",
    "plt.scatter(xs,ys)\n",
    "plt.xlabel(\"x\")\n",
    "plt.ylabel(\"y\")\n",
    "plt.title(\"Figure 2: Line of Best Fit\")"
   ]
  },
  {
   "cell_type": "markdown",
   "metadata": {},
   "source": [
    "## The Boston housing dataset"
   ]
  },
  {
   "cell_type": "code",
   "execution_count": 30,
   "metadata": {},
   "outputs": [],
   "source": [
    "import tensorflow as tf\n",
    "from sklearn.datasets import load_boston\n",
    "from sklearn.preprocessing import scale\n",
    "import numpy as np"
   ]
  },
  {
   "cell_type": "code",
   "execution_count": 31,
   "metadata": {},
   "outputs": [],
   "source": [
    "learning_rate = 0.01\n",
    "epochs = 10000\n",
    "display_epoch = epochs//20\n",
    "n_train = 300\n",
    "n_valid = 100"
   ]
  },
  {
   "cell_type": "code",
   "execution_count": 40,
   "metadata": {},
   "outputs": [
    {
     "name": "stdout",
     "output_type": "stream",
     "text": [
      "(300, 13)\n"
     ]
    }
   ],
   "source": [
    "features, prices = load_boston(True)\n",
    "n_test = len(features) - n_train - n_valid\n",
    "\n",
    "# Keep n_train samples for training\n",
    "train_features = tf.cast(scale(features[:n_train]), dtype=tf.float32) \n",
    "print(train_features.shape)\n",
    "train_prices = prices[:n_train]\n",
    "\n",
    "# Keep n_valid samples for validation\n",
    "valid_features = tf.cast(scale(features[n_train:n_train+n_valid]), dtype=tf.float32)\n",
    "valid_prices = prices[n_train:n_train+n_valid]\n",
    "\n",
    "# Keep remaining n_test data points as test set)\n",
    "test_features = tf.cast(scale(features[n_train+n_valid:n_train+n_valid+n_test]), dtype=tf.float32)\n",
    "\n",
    "test_prices = prices[n_train + n_valid : n_train + n_valid + n_test]"
   ]
  },
  {
   "cell_type": "code",
   "execution_count": 74,
   "metadata": {},
   "outputs": [],
   "source": [
    "def prediction1(x, weight, bias):\n",
    "    return tf.matmul(x, weight) + bias # our predicted (learned) m and c, expression is like y = m*x + c"
   ]
  },
  {
   "cell_type": "code",
   "execution_count": 75,
   "metadata": {},
   "outputs": [],
   "source": [
    "# A loss function using root mean-squared error\n",
    "def loss(x, y, weights, bias):\n",
    "  error = prediction1(x, weights, bias) - y # how 'wrong' our predicted (learned) y is\n",
    "  squared_error = tf.square(error)\n",
    "  return tf.sqrt(tf.reduce_mean(input_tensor=squared_error)) # squre root of overall mean of squared error."
   ]
  },
  {
   "cell_type": "code",
   "execution_count": 76,
   "metadata": {},
   "outputs": [],
   "source": [
    "# Find the derivative of loss with respect to weight and bias\n",
    "def gradient(x, y, weights, bias):\n",
    "  with tf.GradientTape() as tape:\n",
    "    loss_value = loss(x, y, weights, bias)\n",
    "  return tape.gradient(loss_value, [weights, bias])# direction and value of the gradient of our weight and bias"
   ]
  },
  {
   "cell_type": "code",
   "execution_count": 77,
   "metadata": {},
   "outputs": [
    {
     "name": "stdout",
     "output_type": "stream",
     "text": [
      "<tf.Variable 'Variable:0' shape=(13, 1) dtype=float32, numpy=\n",
      "array([[ 0.09503774],\n",
      "       [ 0.10126051],\n",
      "       [-0.29605243],\n",
      "       [ 1.653718  ],\n",
      "       [-1.7405818 ],\n",
      "       [ 0.86788064],\n",
      "       [-0.84093213],\n",
      "       [ 0.9045425 ],\n",
      "       [-1.4743229 ],\n",
      "       [-0.5075275 ],\n",
      "       [ 1.091866  ],\n",
      "       [ 0.38238388],\n",
      "       [ 2.3471932 ]], dtype=float32)> <tf.Variable 'Variable:0' shape=(1,) dtype=float32, numpy=array([0.], dtype=float32)>\n",
      "Initial loss: 27.300\n"
     ]
    }
   ],
   "source": [
    "# Start with random values for W and B on the same batch of data\n",
    "W = tf.Variable(tf.random.normal([13, 1], mean=0.0, stddev=1.0, dtype=tf.float32))\n",
    "B = tf.Variable(tf.zeros(1) , dtype = tf.float32)\n",
    "\n",
    "print(W,B)\n",
    "print(\"Initial loss: {:.3f}\".format(loss(train_features, train_prices,W, B)))"
   ]
  },
  {
   "cell_type": "code",
   "execution_count": 78,
   "metadata": {},
   "outputs": [
    {
     "name": "stdout",
     "output_type": "stream",
     "text": [
      "Validation loss after epoch 00: 23.092\n",
      "Validation loss after epoch 500: 18.793\n",
      "Validation loss after epoch 1000: 15.017\n",
      "Validation loss after epoch 1500: 11.969\n",
      "Validation loss after epoch 2000: 10.005\n",
      "Validation loss after epoch 2500: 9.256\n",
      "Validation loss after epoch 3000: 9.299\n",
      "Validation loss after epoch 3500: 9.574\n",
      "Validation loss after epoch 4000: 9.821\n",
      "Validation loss after epoch 4500: 9.989\n",
      "Validation loss after epoch 5000: 10.091\n",
      "Validation loss after epoch 5500: 10.151\n",
      "Validation loss after epoch 6000: 10.184\n",
      "Validation loss after epoch 6500: 10.202\n",
      "Validation loss after epoch 7000: 10.212\n",
      "Validation loss after epoch 7500: 10.216\n",
      "Validation loss after epoch 8000: 10.218\n",
      "Validation loss after epoch 8500: 10.219\n",
      "Validation loss after epoch 9000: 10.219\n",
      "Validation loss after epoch 9500: 10.219\n"
     ]
    }
   ],
   "source": [
    "for e in range(epochs): #iterate for each training epoch\n",
    "    deltaW, deltaB = gradient(train_features, train_prices, W, B) # direction (sign) and value of the gradient of our weight and bias\n",
    "    change_W = deltaW * learning_rate # adjustment amount for weight\n",
    "    change_B = deltaB * learning_rate # adjustment amount for bias\n",
    "    W.assign_sub(change_W) # subract from W\n",
    "    B.assign_sub(change_B) # subract from B\n",
    "    if e==0 or e % display_epoch == 0:\n",
    "        # print(deltaW.numpy(), deltaB.numpy()) # uncomment if you want to see the gradients\n",
    "        print(\"Validation loss after epoch {:02d}: {:.3f}\".format(e, loss(valid_features, valid_prices, W, B)))"
   ]
  },
  {
   "cell_type": "code",
   "execution_count": 80,
   "metadata": {},
   "outputs": [
    {
     "name": "stdout",
     "output_type": "stream",
     "text": [
      "Actual median house value 20.1  in $10K\n",
      "Predicted median house value  [25.6427]  in $10K\n"
     ]
    }
   ],
   "source": [
    "example_house = 69\n",
    "y = test_prices[example_house]\n",
    "y_pred = prediction1(test_features,W.numpy(),B.numpy())[example_house]\n",
    "print(\"Actual median house value\",y,\" in $10K\")\n",
    "print(\"Predicted median house value \",y_pred.numpy(),\" in $10K\")"
   ]
  },
  {
   "cell_type": "code",
   "execution_count": null,
   "metadata": {},
   "outputs": [],
   "source": []
  }
 ],
 "metadata": {
  "kernelspec": {
   "display_name": "Python 3",
   "language": "python",
   "name": "python3"
  },
  "language_info": {
   "codemirror_mode": {
    "name": "ipython",
    "version": 3
   },
   "file_extension": ".py",
   "mimetype": "text/x-python",
   "name": "python",
   "nbconvert_exporter": "python",
   "pygments_lexer": "ipython3",
   "version": "3.7.1"
  }
 },
 "nbformat": 4,
 "nbformat_minor": 2
}
